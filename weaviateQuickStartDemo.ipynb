{
  "nbformat": 4,
  "nbformat_minor": 0,
  "metadata": {
    "colab": {
      "provenance": []
    },
    "kernelspec": {
      "name": "python3",
      "display_name": "Python 3"
    },
    "language_info": {
      "name": "python"
    }
  },
  "cells": [
    {
      "cell_type": "code",
      "execution_count": null,
      "metadata": {
        "colab": {
          "base_uri": "https://localhost:8080/"
        },
        "id": "WsOiDQ0Ping2",
        "outputId": "ec531d75-fad2-4583-a6c0-06d1cf96b373"
      },
      "outputs": [
        {
          "output_type": "stream",
          "name": "stdout",
          "text": [
            "Collecting weaviate-client\n",
            "  Downloading weaviate_client-3.24.1-py3-none-any.whl (107 kB)\n",
            "\u001b[?25l     \u001b[90m━━━━━━━━━━━━━━━━━━━━━━━━━━━━━━━━━━━━━━━━\u001b[0m \u001b[32m0.0/108.0 kB\u001b[0m \u001b[31m?\u001b[0m eta \u001b[36m-:--:--\u001b[0m\r\u001b[2K     \u001b[91m━━━━━━━━━━━━━━━━━━━━━━━━━━\u001b[0m\u001b[91m╸\u001b[0m\u001b[90m━━━━━━━━━━━━━\u001b[0m \u001b[32m71.7/108.0 kB\u001b[0m \u001b[31m1.9 MB/s\u001b[0m eta \u001b[36m0:00:01\u001b[0m\r\u001b[2K     \u001b[90m━━━━━━━━━━━━━━━━━━━━━━━━━━━━━━━━━━━━━━━\u001b[0m \u001b[32m108.0/108.0 kB\u001b[0m \u001b[31m2.2 MB/s\u001b[0m eta \u001b[36m0:00:00\u001b[0m\n",
            "\u001b[?25hRequirement already satisfied: requests<3.0.0,>=2.30.0 in /usr/local/lib/python3.10/dist-packages (from weaviate-client) (2.31.0)\n",
            "Collecting validators<1.0.0,>=0.21.2 (from weaviate-client)\n",
            "  Downloading validators-0.22.0-py3-none-any.whl (26 kB)\n",
            "Collecting authlib<2.0.0,>=1.2.1 (from weaviate-client)\n",
            "  Downloading Authlib-1.2.1-py2.py3-none-any.whl (215 kB)\n",
            "\u001b[2K     \u001b[90m━━━━━━━━━━━━━━━━━━━━━━━━━━━━━━━━━━━━━━━\u001b[0m \u001b[32m215.3/215.3 kB\u001b[0m \u001b[31m6.2 MB/s\u001b[0m eta \u001b[36m0:00:00\u001b[0m\n",
            "\u001b[?25hRequirement already satisfied: cryptography>=3.2 in /usr/local/lib/python3.10/dist-packages (from authlib<2.0.0,>=1.2.1->weaviate-client) (41.0.3)\n",
            "Requirement already satisfied: charset-normalizer<4,>=2 in /usr/local/lib/python3.10/dist-packages (from requests<3.0.0,>=2.30.0->weaviate-client) (3.2.0)\n",
            "Requirement already satisfied: idna<4,>=2.5 in /usr/local/lib/python3.10/dist-packages (from requests<3.0.0,>=2.30.0->weaviate-client) (3.4)\n",
            "Requirement already satisfied: urllib3<3,>=1.21.1 in /usr/local/lib/python3.10/dist-packages (from requests<3.0.0,>=2.30.0->weaviate-client) (2.0.4)\n",
            "Requirement already satisfied: certifi>=2017.4.17 in /usr/local/lib/python3.10/dist-packages (from requests<3.0.0,>=2.30.0->weaviate-client) (2023.7.22)\n",
            "Requirement already satisfied: cffi>=1.12 in /usr/local/lib/python3.10/dist-packages (from cryptography>=3.2->authlib<2.0.0,>=1.2.1->weaviate-client) (1.15.1)\n",
            "Requirement already satisfied: pycparser in /usr/local/lib/python3.10/dist-packages (from cffi>=1.12->cryptography>=3.2->authlib<2.0.0,>=1.2.1->weaviate-client) (2.21)\n",
            "Installing collected packages: validators, authlib, weaviate-client\n",
            "Successfully installed authlib-1.2.1 validators-0.22.0 weaviate-client-3.24.1\n"
          ]
        }
      ],
      "source": [
        "!pip install weaviate-client"
      ]
    },
    {
      "cell_type": "code",
      "source": [
        "import weaviate\n",
        "import json\n",
        "\n",
        "\n",
        "auth_config = weaviate.AuthApiKey(api_key=\"api_key\")\n",
        "\n",
        "client = weaviate.Client(\n",
        "      url=\"url\",\n",
        "      auth_client_secret=auth_config\n",
        ")\n"
      ],
      "metadata": {
        "id": "kYN1M-dRi7qC"
      },
      "execution_count": null,
      "outputs": []
    },
    {
      "cell_type": "code",
      "source": [
        "class_obj = {\n",
        "    \"class\": \"Question\",\n",
        "    \"vectorizer\": \"text2vec-openai\",  # If set to \"none\" you must always provide vectors yourself. Could be any other \"text2vec-*\" also.\n",
        "    \"moduleConfig\": {\n",
        "        \"text2vec-openai\": {},\n",
        "        \"generative-openai\": {}  # Ensure the `generative-openai` module is used for generative queries\n",
        "    }\n",
        "}\n",
        "\n",
        "client.schema.create_class(class_obj)\n"
      ],
      "metadata": {
        "id": "WJYzODkii7su"
      },
      "execution_count": null,
      "outputs": []
    },
    {
      "cell_type": "code",
      "source": [
        "import requests\n",
        "resp = requests.get('https://raw.githubusercontent.com/weaviate-tutorials/quickstart/main/data/jeopardy_tiny.json')\n",
        "data = json.loads(resp.text)  # Load data\n",
        "\n",
        "client.batch.configure(batch_size=100)  # Configure batch\n",
        "with client.batch as batch:  # Initialize a batch process\n",
        "    for i, d in enumerate(data):  # Batch import data\n",
        "        print(f\"importing question: {i+1}\")\n",
        "        properties = {\n",
        "            \"answer\": d[\"Answer\"],\n",
        "            \"question\": d[\"Question\"],\n",
        "            \"category\": d[\"Category\"],\n",
        "        }\n",
        "        batch.add_data_object(\n",
        "            data_object=properties,\n",
        "            class_name=\"Question\"\n",
        "        )\n",
        "\n"
      ],
      "metadata": {
        "colab": {
          "base_uri": "https://localhost:8080/"
        },
        "id": "l579bMdbi7vh",
        "outputId": "023f5eb3-106d-45c4-d79c-58ec8cbea12f"
      },
      "execution_count": null,
      "outputs": [
        {
          "output_type": "stream",
          "name": "stdout",
          "text": [
            "importing question: 1\n",
            "importing question: 2\n",
            "importing question: 3\n",
            "importing question: 4\n",
            "importing question: 5\n",
            "importing question: 6\n",
            "importing question: 7\n",
            "importing question: 8\n",
            "importing question: 9\n",
            "importing question: 10\n",
            "{'error': [{'message': 'update vector: API Key: no api key found neither in request header: X-Openai-Api-Key nor in environment variable under OPENAI_APIKEY'}]}\n",
            "{'error': [{'message': 'update vector: API Key: no api key found neither in request header: X-Openai-Api-Key nor in environment variable under OPENAI_APIKEY'}]}\n",
            "{'error': [{'message': 'update vector: API Key: no api key found neither in request header: X-Openai-Api-Key nor in environment variable under OPENAI_APIKEY'}]}\n",
            "{'error': [{'message': 'update vector: API Key: no api key found neither in request header: X-Openai-Api-Key nor in environment variable under OPENAI_APIKEY'}]}\n",
            "{'error': [{'message': 'update vector: API Key: no api key found neither in request header: X-Openai-Api-Key nor in environment variable under OPENAI_APIKEY'}]}\n",
            "{'error': [{'message': 'update vector: API Key: no api key found neither in request header: X-Openai-Api-Key nor in environment variable under OPENAI_APIKEY'}]}\n",
            "{'error': [{'message': 'update vector: API Key: no api key found neither in request header: X-Openai-Api-Key nor in environment variable under OPENAI_APIKEY'}]}\n",
            "{'error': [{'message': 'update vector: API Key: no api key found neither in request header: X-Openai-Api-Key nor in environment variable under OPENAI_APIKEY'}]}\n",
            "{'error': [{'message': 'update vector: API Key: no api key found neither in request header: X-Openai-Api-Key nor in environment variable under OPENAI_APIKEY'}]}\n",
            "{'error': [{'message': 'update vector: API Key: no api key found neither in request header: X-Openai-Api-Key nor in environment variable under OPENAI_APIKEY'}]}\n"
          ]
        }
      ]
    },
    {
      "cell_type": "code",
      "source": [
        "import requests\n",
        "fname = \"jeopardy_tiny_with_vectors_all-OpenAI-ada-002.json\"  # This file includes pre-generated vectors\n",
        "url = f'https://raw.githubusercontent.com/weaviate-tutorials/quickstart/main/data/{fname}'\n",
        "resp = requests.get(url)\n",
        "data = json.loads(resp.text)  # Load data\n",
        "\n",
        "client.batch.configure(batch_size=100)  # Configure batch\n",
        "with client.batch as batch:  # Configure a batch process\n",
        "    for i, d in enumerate(data):  # Batch import all Questions\n",
        "        print(f\"importing question: {i+1}\")\n",
        "        properties = {\n",
        "            \"answer\": d[\"Answer\"],\n",
        "            \"question\": d[\"Question\"],\n",
        "            \"category\": d[\"Category\"],\n",
        "        }\n",
        "        batch.add_data_object(\n",
        "            data_object=properties,\n",
        "            class_name=\"Question\",\n",
        "            vector=d[\"vector\"]  # Add custom vector\n",
        "        )\n",
        "\n"
      ],
      "metadata": {
        "colab": {
          "base_uri": "https://localhost:8080/"
        },
        "id": "-dVj3pBSi7yQ",
        "outputId": "36a83aa6-cd3c-4f24-a982-ff616b637e28"
      },
      "execution_count": null,
      "outputs": [
        {
          "output_type": "stream",
          "name": "stdout",
          "text": [
            "importing question: 1\n",
            "importing question: 2\n",
            "importing question: 3\n",
            "importing question: 4\n",
            "importing question: 5\n",
            "importing question: 6\n",
            "importing question: 7\n",
            "importing question: 8\n",
            "importing question: 9\n",
            "importing question: 10\n"
          ]
        }
      ]
    },
    {
      "cell_type": "code",
      "source": [
        "import weaviate\n",
        "import json\n",
        "import os\n",
        "azure_api_key=\"9fb2f00451004c6e82f33d2e7965099a\";\n",
        "os.environ[\"OPENAI_API_KEY\"] = azure_api_key\n",
        "client = weaviate.Client(\n",
        "    url = \"https://weaviatetesting-02l81gdb.weaviate.network\",  # Replace with your endpoint\n",
        "    auth_client_secret=weaviate.AuthApiKey(api_key=\"71NcZdjc5x2QLGvnc7buaAPd3SkylZSbx5t2\"),  # Replace w/ your Weaviate instance API key\n",
        "    additional_headers = {\n",
        "        \"X-Openai-Api-Key\": \"Open-Api-Key\"  # Replace with your inference API key\n",
        "    }\n",
        ")\n",
        "\n",
        "response = (\n",
        "    client.query\n",
        "    .get(\"Question\", [\"question\", \"answer\", \"category\"])\n",
        "    .with_near_text({\"concepts\": [\"biology\"]})\n",
        "    .with_limit(2)\n",
        "    .do()\n",
        ")\n",
        "\n",
        "print(json.dumps(response, indent=4))"
      ],
      "metadata": {
        "colab": {
          "base_uri": "https://localhost:8080/"
        },
        "id": "_pK0mzz3i701",
        "outputId": "808e81da-2e9f-4a98-e311-1aba7b51313e"
      },
      "execution_count": null,
      "outputs": [
        {
          "output_type": "stream",
          "name": "stdout",
          "text": [
            "{\n",
            "    \"data\": {\n",
            "        \"Get\": {\n",
            "            \"Question\": [\n",
            "                {\n",
            "                    \"answer\": \"DNA\",\n",
            "                    \"category\": \"SCIENCE\",\n",
            "                    \"question\": \"In 1953 Watson & Crick built a model of the molecular structure of this, the gene-carrying substance\"\n",
            "                },\n",
            "                {\n",
            "                    \"answer\": \"species\",\n",
            "                    \"category\": \"SCIENCE\",\n",
            "                    \"question\": \"2000 news: the Gunnison sage grouse isn't just another northern sage grouse, but a new one of this classification\"\n",
            "                }\n",
            "            ]\n",
            "        }\n",
            "    }\n",
            "}\n"
          ]
        }
      ]
    },
    {
      "cell_type": "code",
      "source": [],
      "metadata": {
        "id": "TlPd6hlVi73v"
      },
      "execution_count": null,
      "outputs": []
    },
    {
      "cell_type": "code",
      "source": [],
      "metadata": {
        "id": "11MXvIyti76W"
      },
      "execution_count": null,
      "outputs": []
    },
    {
      "cell_type": "code",
      "source": [],
      "metadata": {
        "id": "cIZWWAEPi78y"
      },
      "execution_count": null,
      "outputs": []
    },
    {
      "cell_type": "code",
      "source": [],
      "metadata": {
        "id": "Zd6GkKcBi7_i"
      },
      "execution_count": null,
      "outputs": []
    },
    {
      "cell_type": "code",
      "source": [],
      "metadata": {
        "id": "HfKAjTSii8Mh"
      },
      "execution_count": null,
      "outputs": []
    },
    {
      "cell_type": "code",
      "source": [],
      "metadata": {
        "id": "QJNzwhKXi8PZ"
      },
      "execution_count": null,
      "outputs": []
    },
    {
      "cell_type": "code",
      "source": [],
      "metadata": {
        "id": "mnsN-IOhi8Sg"
      },
      "execution_count": null,
      "outputs": []
    },
    {
      "cell_type": "code",
      "source": [],
      "metadata": {
        "id": "VWyslKpji8VM"
      },
      "execution_count": null,
      "outputs": []
    }
  ]
}